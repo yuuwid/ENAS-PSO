{
 "cells": [
  {
   "cell_type": "code",
   "execution_count": 106,
   "metadata": {},
   "outputs": [],
   "source": [
    "from enas.utils.collection import Collection\n",
    "from enas.utils.cache import Cache\n",
    "\n",
    "Collection.start_session()"
   ]
  },
  {
   "cell_type": "code",
   "execution_count": 107,
   "metadata": {},
   "outputs": [],
   "source": [
    "import numpy as np\n",
    "\n",
    "pos = np.random.randint(0, 2, (3, 2))"
   ]
  },
  {
   "cell_type": "code",
   "execution_count": 108,
   "metadata": {},
   "outputs": [
    {
     "data": {
      "text/plain": [
       "[[6, 9], [14, 2], [2, 8]]"
      ]
     },
     "execution_count": 108,
     "metadata": {},
     "output_type": "execute_result"
    }
   ],
   "source": [
    "encode = []\n",
    "types = []\n",
    "\n",
    "for i in range(len(pos)):\n",
    "    temp = []\n",
    "    temp_type = []\n",
    "    for j in range(len(pos[i])):\n",
    "        if pos[i][j] == 0:\n",
    "            n = len(Collection.get(key=\"conv\")) - 1\n",
    "            type = \"conv\"\n",
    "        elif pos[i][j]:\n",
    "            n = len(Collection.get(key=\"pool\")) - 1\n",
    "            type = \"pool\"\n",
    "        temp.append(np.random.randint(0, n))\n",
    "        temp_type.append(type)\n",
    "    encode.append(temp)\n",
    "    types.append(temp_type)\n",
    "\n",
    "encode"
   ]
  },
  {
   "cell_type": "code",
   "execution_count": 109,
   "metadata": {},
   "outputs": [
    {
     "name": "stdout",
     "output_type": "stream",
     "text": [
      "{'filters': 32, 'kernel_size': (3, 3), 'activation': True, 'ztype': 'conv'}\n",
      "{'type': 'avg', 'pool_size': (4, 4), 'ztype': 'pool'}\n",
      "{'type': 'max', 'pool_size': (4, 4), 'ztype': 'pool'}\n",
      "{'type': 'avg', 'pool_size': (4, 4), 'strides': (3, 3), 'ztype': 'pool'}\n",
      "{'filters': 16, 'kernel_size': (5, 5), 'activation': True, 'ztype': 'conv'}\n",
      "{'filters': 32, 'kernel_size': (5, 5), 'activation': True, 'ztype': 'conv'}\n"
     ]
    }
   ],
   "source": [
    "decode = []\n",
    "\n",
    "for i in range(len(encode)):\n",
    "    for j in range(len(encode[i])):\n",
    "        if types[i][j] == \"conv\":\n",
    "            layer = Collection.get_in_flatten_dict(None, index=encode[i][j], key='conv', use_cache=True)\n",
    "        elif types[i][j] == \"pool\":\n",
    "            layer = Collection.get_in_flatten_dict(None, index=encode[i][j], key='pool', use_cache=True)\n",
    "        \n",
    "        print(layer)"
   ]
  }
 ],
 "metadata": {
  "kernelspec": {
   "display_name": "base",
   "language": "python",
   "name": "python3"
  },
  "language_info": {
   "codemirror_mode": {
    "name": "ipython",
    "version": 3
   },
   "file_extension": ".py",
   "mimetype": "text/x-python",
   "name": "python",
   "nbconvert_exporter": "python",
   "pygments_lexer": "ipython3",
   "version": "3.9.13"
  },
  "orig_nbformat": 4
 },
 "nbformat": 4,
 "nbformat_minor": 2
}
